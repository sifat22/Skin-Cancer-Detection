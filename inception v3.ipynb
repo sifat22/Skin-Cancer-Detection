{
 "cells": [
  {
   "cell_type": "code",
   "execution_count": 43,
   "id": "c56977f1",
   "metadata": {},
   "outputs": [],
   "source": [
    "%matplotlib inline\n",
    "import matplotlib.pyplot as plt\n",
    "plt.style.use(\"ggplot\")\n",
    "import numpy as np\n",
    "import pandas as pd\n",
    "import os\n",
    "import gc\n",
    "from tqdm import tqdm\n",
    "from glob import glob\n",
    "import seaborn as sns\n",
    "import pprint as pp\n",
    "from sklearn.model_selection import train_test_split\n",
    "from sklearn.metrics import confusion_matrix\n",
    "from sklearn.utils import resample\n",
    "import tensorflow as tf\n",
    "from tensorflow import keras\n",
    "from tensorflow.keras import layers\n",
    "from keras.utils import np_utils\n",
    "import itertools\n",
    "import cv2\n",
    "from PIL import Image\n",
    "from keras import backend as K\n",
    "from keras.models import Sequential\n",
    "from keras.layers.core import Dense, Dropout, Activation, Flatten\n",
    "from keras.layers.convolutional import Convolution2D, MaxPooling2D,Conv2D\n",
    "from keras.preprocessing.image import ImageDataGenerator\n",
    "import keras.utils\n",
    "from tensorflow.keras import utils as np_utils\n",
    "#from keras.layers.normalization import BatchNormalization\n",
    "from keras.preprocessing import image\n",
    "#from keras.applications.resnet50 import preprocess_input, decode_predictions\n",
    "from sklearn.metrics import classification_report\n",
    "from collections import defaultdict\n",
    "import sklearn.metrics as metrics\n",
    "from PIL import Image\n",
    "from tensorflow.keras.applications import   Xception ,InceptionV3 ,DenseNet121,VGG19, VGG16,ResNet50\n",
    "from tensorflow.keras.layers import Input, Dense, Flatten, AveragePooling2D, Dropout, BatchNormalization, Conv2D\n",
    "from keras.optimizers import RMSprop, Adam\n",
    "from tensorflow.keras.models import Model\n",
    "from sklearn.metrics import accuracy_score, f1_score, precision_score, recall_score, classification_report, confusion_matrix"
   ]
  },
  {
   "cell_type": "code",
   "execution_count": 44,
   "id": "aa7dea2a",
   "metadata": {},
   "outputs": [],
   "source": [
    "%matplotlib inline\n",
    "import matplotlib.pyplot as plt\n",
    "import seaborn as sns\n",
    "plt.rcParams[\"figure.figsize\"] = (15, 10)\n",
    "plt.rcParams[\"figure.dpi\"] = 125\n",
    "plt.rcParams[\"font.size\"] = 14\n",
    "plt.rcParams['font.family'] = ['sans-serif']\n",
    "plt.rcParams['font.sans-serif'] = ['DejaVu Sans']\n",
    "plt.style.use('ggplot')\n",
    "sns.set_style(\"whitegrid\", {'axes.grid': False})\n",
    "plt.rcParams['image.cmap'] = 'gray' # grayscale looks better\n",
    "from itertools import cycle\n",
    "prop_cycle = plt.rcParams['axes.prop_cycle']\n",
    "colors = prop_cycle.by_key()['color']"
   ]
  },
  {
   "cell_type": "code",
   "execution_count": 45,
   "id": "295e8f76",
   "metadata": {},
   "outputs": [],
   "source": [
    "base_skin_dir = os.path.join('..', 'E:/code')\n",
    "\n",
    "# Merging images from both folders HAM10000_images_part1.zip and HAM10000_images_part2.zip into one dictionary\n",
    "\n",
    "imageid_path_dict = {os.path.splitext(os.path.basename(x))[0]: x\n",
    "                     for x in glob(os.path.join(base_skin_dir, '*', '*.jpg'))}\n",
    "\n",
    "# This dictionary is useful for displaying more human-friendly labels later on\n",
    "\n",
    "lesion_type_dict = {\n",
    "    'nv': 'Melanocytic nevi',\n",
    "    'mel': 'Melanoma',\n",
    "    'bkl': 'Benign keratosis-like lesions ',\n",
    "    'bcc': 'Basal cell carcinoma',\n",
    "    'akiec': 'Actinic keratoses',\n",
    "    'vasc': 'Vascular lesions',\n",
    "    'df': 'Dermatofibroma'\n",
    "}"
   ]
  },
  {
   "cell_type": "code",
   "execution_count": 46,
   "id": "cb8e1402",
   "metadata": {},
   "outputs": [
    {
     "data": {
      "text/html": [
       "<div>\n",
       "<style scoped>\n",
       "    .dataframe tbody tr th:only-of-type {\n",
       "        vertical-align: middle;\n",
       "    }\n",
       "\n",
       "    .dataframe tbody tr th {\n",
       "        vertical-align: top;\n",
       "    }\n",
       "\n",
       "    .dataframe thead th {\n",
       "        text-align: right;\n",
       "    }\n",
       "</style>\n",
       "<table border=\"1\" class=\"dataframe\">\n",
       "  <thead>\n",
       "    <tr style=\"text-align: right;\">\n",
       "      <th></th>\n",
       "      <th>lesion_id</th>\n",
       "      <th>image_id</th>\n",
       "      <th>dx</th>\n",
       "      <th>dx_type</th>\n",
       "      <th>age</th>\n",
       "      <th>sex</th>\n",
       "      <th>localization</th>\n",
       "      <th>path</th>\n",
       "      <th>cell_type</th>\n",
       "      <th>cell_type_idx</th>\n",
       "    </tr>\n",
       "  </thead>\n",
       "  <tbody>\n",
       "    <tr>\n",
       "      <th>0</th>\n",
       "      <td>HAM_0000118</td>\n",
       "      <td>ISIC_0027419</td>\n",
       "      <td>bkl</td>\n",
       "      <td>histo</td>\n",
       "      <td>80.0</td>\n",
       "      <td>male</td>\n",
       "      <td>scalp</td>\n",
       "      <td>E:/code\\HAM10000_images_part_1\\ISIC_0027419.jpg</td>\n",
       "      <td>Benign keratosis-like lesions</td>\n",
       "      <td>2</td>\n",
       "    </tr>\n",
       "    <tr>\n",
       "      <th>1</th>\n",
       "      <td>HAM_0000118</td>\n",
       "      <td>ISIC_0025030</td>\n",
       "      <td>bkl</td>\n",
       "      <td>histo</td>\n",
       "      <td>80.0</td>\n",
       "      <td>male</td>\n",
       "      <td>scalp</td>\n",
       "      <td>E:/code\\HAM10000_images_part_1\\ISIC_0025030.jpg</td>\n",
       "      <td>Benign keratosis-like lesions</td>\n",
       "      <td>2</td>\n",
       "    </tr>\n",
       "    <tr>\n",
       "      <th>2</th>\n",
       "      <td>HAM_0002730</td>\n",
       "      <td>ISIC_0026769</td>\n",
       "      <td>bkl</td>\n",
       "      <td>histo</td>\n",
       "      <td>80.0</td>\n",
       "      <td>male</td>\n",
       "      <td>scalp</td>\n",
       "      <td>E:/code\\HAM10000_images_part_1\\ISIC_0026769.jpg</td>\n",
       "      <td>Benign keratosis-like lesions</td>\n",
       "      <td>2</td>\n",
       "    </tr>\n",
       "    <tr>\n",
       "      <th>3</th>\n",
       "      <td>HAM_0002730</td>\n",
       "      <td>ISIC_0025661</td>\n",
       "      <td>bkl</td>\n",
       "      <td>histo</td>\n",
       "      <td>80.0</td>\n",
       "      <td>male</td>\n",
       "      <td>scalp</td>\n",
       "      <td>E:/code\\HAM10000_images_part_1\\ISIC_0025661.jpg</td>\n",
       "      <td>Benign keratosis-like lesions</td>\n",
       "      <td>2</td>\n",
       "    </tr>\n",
       "    <tr>\n",
       "      <th>4</th>\n",
       "      <td>HAM_0001466</td>\n",
       "      <td>ISIC_0031633</td>\n",
       "      <td>bkl</td>\n",
       "      <td>histo</td>\n",
       "      <td>75.0</td>\n",
       "      <td>male</td>\n",
       "      <td>ear</td>\n",
       "      <td>E:/code\\HAM10000_images_part_2\\ISIC_0031633.jpg</td>\n",
       "      <td>Benign keratosis-like lesions</td>\n",
       "      <td>2</td>\n",
       "    </tr>\n",
       "  </tbody>\n",
       "</table>\n",
       "</div>"
      ],
      "text/plain": [
       "     lesion_id      image_id   dx dx_type   age   sex localization  \\\n",
       "0  HAM_0000118  ISIC_0027419  bkl   histo  80.0  male        scalp   \n",
       "1  HAM_0000118  ISIC_0025030  bkl   histo  80.0  male        scalp   \n",
       "2  HAM_0002730  ISIC_0026769  bkl   histo  80.0  male        scalp   \n",
       "3  HAM_0002730  ISIC_0025661  bkl   histo  80.0  male        scalp   \n",
       "4  HAM_0001466  ISIC_0031633  bkl   histo  75.0  male          ear   \n",
       "\n",
       "                                              path  \\\n",
       "0  E:/code\\HAM10000_images_part_1\\ISIC_0027419.jpg   \n",
       "1  E:/code\\HAM10000_images_part_1\\ISIC_0025030.jpg   \n",
       "2  E:/code\\HAM10000_images_part_1\\ISIC_0026769.jpg   \n",
       "3  E:/code\\HAM10000_images_part_1\\ISIC_0025661.jpg   \n",
       "4  E:/code\\HAM10000_images_part_2\\ISIC_0031633.jpg   \n",
       "\n",
       "                        cell_type  cell_type_idx  \n",
       "0  Benign keratosis-like lesions               2  \n",
       "1  Benign keratosis-like lesions               2  \n",
       "2  Benign keratosis-like lesions               2  \n",
       "3  Benign keratosis-like lesions               2  \n",
       "4  Benign keratosis-like lesions               2  "
      ]
     },
     "execution_count": 46,
     "metadata": {},
     "output_type": "execute_result"
    }
   ],
   "source": [
    "data = pd.read_csv(os.path.join(base_skin_dir, 'E:/code/HAM10000_metadata.csv'))\n",
    "\n",
    "# Creating New Columns for better readability\n",
    "\n",
    "data['path'] = data['image_id'].map(imageid_path_dict.get)\n",
    "data['cell_type'] = data['dx'].map(lesion_type_dict.get) \n",
    "data['cell_type_idx'] = pd.Categorical(data['cell_type']).codes\n",
    "\n",
    "data.head()"
   ]
  },
  {
   "cell_type": "code",
   "execution_count": 47,
   "id": "74887757",
   "metadata": {},
   "outputs": [
    {
     "data": {
      "text/plain": [
       "<Axes: >"
      ]
     },
     "execution_count": 47,
     "metadata": {},
     "output_type": "execute_result"
    },
    {
     "data": {
      "image/png": "[encoded data removed]",
      "text/plain": [
       "<Figure size 1250x625 with 1 Axes>"
      ]
     },
     "metadata": {},
     "output_type": "display_data"
    }
   ],
   "source": [
    "fig, ax1 = plt.subplots(1, 1, figsize = (10, 5))\n",
    "data['cell_type'].value_counts().plot(kind='bar', ax=ax1)"
   ]
  },
  {
   "cell_type": "code",
   "execution_count": 48,
   "id": "d7a78ddc",
   "metadata": {},
   "outputs": [
    {
     "name": "stdout",
     "output_type": "stream",
     "text": [
      "Melanocytic nevi                  6705\n",
      "Melanoma                          1113\n",
      "Benign keratosis-like lesions     1099\n",
      "Basal cell carcinoma               514\n",
      "Actinic keratoses                  327\n",
      "Vascular lesions                   142\n",
      "Dermatofibroma                     115\n",
      "Name: cell_type, dtype: int64\n"
     ]
    }
   ],
   "source": [
    "print(data['cell_type'].value_counts())"
   ]
  },
  {
   "cell_type": "code",
   "execution_count": 49,
   "id": "91c08ee8",
   "metadata": {},
   "outputs": [],
   "source": [
    "def balanced_dataset(df):\n",
    "    df_balanced = pd.DataFrame()\n",
    "    \n",
    "    for cat in df['cell_type_idx'].unique():\n",
    "        temp = resample(df[df['cell_type_idx'] == cat], \n",
    "                        replace=True,     # sample with replacement\n",
    "                        n_samples=1500,   # to match majority class\n",
    "                        random_state=123) # reproducible results\n",
    "\n",
    "        # Combine majority class with upsampled minority class\n",
    "        df_balanced = pd.concat([df_balanced, temp])\n",
    " \n",
    "    df_balanced['cell_type'].value_counts()\n",
    "\n",
    "    return df_balanced"
   ]
  },
  {
   "cell_type": "code",
   "execution_count": 50,
   "id": "e9786d1c",
   "metadata": {},
   "outputs": [],
   "source": [
    "def load_img_data(size, df, balanced=False):\n",
    "    #first we should normalize the image from 0-255 to 0-1\n",
    "    \n",
    "    img_h, img_w = size, size\n",
    "    imgs = []\n",
    "    \n",
    "    if balanced:\n",
    "        df = balanced_dataset(df)\n",
    "    \n",
    "    image_paths = list(df['path'])\n",
    "\n",
    "    for i in tqdm(range(len(image_paths))):\n",
    "        img = cv2.imread(image_paths[i])\n",
    "        img = cv2.resize(img, (img_h, img_w))\n",
    "        img = img.astype(np.float32) / 255.\n",
    "        #img = np.asarray(Image.open(image_paths[i]).resize((size,size)))\n",
    "        imgs.append(img)\n",
    "\n",
    "    imgs = np.stack(imgs, axis=0)\n",
    "    print(imgs.shape)\n",
    "\n",
    "    #imgs = imgs.astype(np.float32) / 255.\n",
    "    \n",
    "    return imgs, df['cell_type_idx'].values"
   ]
  },
  {
   "cell_type": "code",
   "execution_count": 51,
   "id": "f6ffaa3f",
   "metadata": {},
   "outputs": [
    {
     "name": "stderr",
     "output_type": "stream",
     "text": [
      "100%|████████████████████████████████████████████████████████████████████████████| 10015/10015 [03:45<00:00, 44.49it/s]\n"
     ]
    },
    {
     "name": "stdout",
     "output_type": "stream",
     "text": [
      "(10015, 128, 128, 3)\n"
     ]
    }
   ],
   "source": [
    "imgs, target   = load_img_data(128, data, balanced=False)"
   ]
  },
  {
   "cell_type": "code",
   "execution_count": 52,
   "id": "6844c673",
   "metadata": {},
   "outputs": [
    {
     "name": "stdout",
     "output_type": "stream",
     "text": [
      "x_train shape: (9514, 128, 128, 3)\n",
      "y_train shape: (9514, 7)\n",
      "x_test shape: (3005, 128, 128, 3)\n",
      "y_test shape: (3005, 7)\n",
      "9514 train samples\n",
      "3005 test samples\n"
     ]
    }
   ],
   "source": [
    "x_train, x_test, y_train, y_test = train_test_split(imgs, target, test_size=.30)\n",
    "x_train, x_val, y_train, y_val = train_test_split(imgs, target, test_size=0.05)\n",
    "\n",
    "\n",
    "\n",
    "train_val_test = (x_train, y_train, x_val, y_val, x_test, y_test)\n",
    "\n",
    "[x_train.shape, x_val.shape, x_test.shape]\n",
    "num_classes=7\n",
    "y_train = keras.utils.to_categorical(y_train, num_classes)\n",
    "y_test = keras.utils.to_categorical(y_test, num_classes)\n",
    "print(\"x_train shape:\", x_train.shape)\n",
    "print(\"y_train shape:\", y_train.shape)\n",
    "\n",
    "print(\"x_test shape:\", x_test.shape)\n",
    "print(\"y_test shape:\", y_test.shape)\n",
    "\n",
    "print(x_train.shape[0], \"train samples\")\n",
    "print(x_test.shape[0], \"test samples\")"
   ]
  },
  {
   "cell_type": "code",
   "execution_count": 53,
   "id": "0d310900",
   "metadata": {},
   "outputs": [],
   "source": [
    "class_weights={\n",
    "    0: 1.0, # akiec\n",
    "    1: 1.0, # bcc\n",
    "    2: 1.0, # bkl\n",
    "    3: 1.0, # df\n",
    "    4: 1.0, # mel \n",
    "    5: 1.0, # nv\n",
    "    6: 1.0, # vasc\n",
    "}"
   ]
  },
  {
   "cell_type": "code",
   "execution_count": 54,
   "id": "2d89ad93",
   "metadata": {},
   "outputs": [
    {
     "name": "stdout",
     "output_type": "stream",
     "text": [
      "All Labels (7): ['akiec', 'bcc', 'bkl', 'df', 'mel', 'nv', 'vasc']\n"
     ]
    }
   ],
   "source": [
    "from itertools import chain\n",
    "all_labels = np.unique(list(chain(*data['dx'].map(lambda x: x.split('|')).tolist())))\n",
    "all_labels = [x for x in all_labels if len(x)>0]\n",
    "print('All Labels ({}): {}'.format(len(all_labels), all_labels))"
   ]
  },
  {
   "cell_type": "code",
   "execution_count": 55,
   "id": "14ef9aa0",
   "metadata": {},
   "outputs": [],
   "source": [
    "EPOCHS = 10\n",
    "BATCH_SIZE = 64\n",
    "INP_SIZE = [128,128,3]"
   ]
  },
  {
   "cell_type": "code",
   "execution_count": 56,
   "id": "55a2bf5c",
   "metadata": {},
   "outputs": [],
   "source": [
    "classes=[\n",
    "    \"Actinic keratoses\", \n",
    "    \"Basal cell carcinoma\", \n",
    "    \"Benign keratosis-like lesions\", \n",
    "    \"Dermatofibroma\", \n",
    "    \"Melanoma\", \n",
    "    \"Melanocytic nevi\", \n",
    "    \"Vascular lesions\"\n",
    "]"
   ]
  },
  {
   "cell_type": "code",
   "execution_count": 57,
   "id": "6ef33551",
   "metadata": {},
   "outputs": [],
   "source": [
    "# Function for plotting the metrics\n",
    "def plot_metrices(model,results_path):\n",
    "    \n",
    "    plt.figure(figsize=(4,4))\n",
    "    ax = plt.subplot()\n",
    "    ax.set_title('Confusion Matrix')\n",
    "    pred = model.predict(x_test, batch_size = BATCH_SIZE)\n",
    "    pred = np.argmax(pred, axis = 1)\n",
    "    Y_pred_classes = pred\n",
    "    cm = confusion_matrix(y_test.argmax(axis = 1), pred)\n",
    "    classes=[\"Actinic keratoses\", \"Basal cell carcinoma\", \"Benign keratosis-like lesions\", \"Dermatofibroma\", \"Melanoma\", \"Melanocytic nevi\", \"Vascular lesions\"]\n",
    "    sns.heatmap(cm, annot = True, xticklabels = all_labels, yticklabels = all_labels, annot_kws={'size':10}, fmt='d', cmap='YlGnBu')\n",
    "    plt.xlabel('Predicted')\n",
    "    plt.ylabel('Actual')\n",
    "    plt.savefig(results_path )\n",
    "    plt.show\n",
    "    \n",
    "    rounded_labels=  y_test.argmax(axis = 1)\n",
    "    \n",
    "    print(classification_report(y_test.argmax(axis = 1), pred))\n",
    "    score = model.evaluate(x_train,y_train , verbose=1)\n",
    "    \n",
    "    total = sum(sum(cm))\n",
    "    acc = (cm[0, 0] + cm[1, 1]) / total\n",
    "    sensitivity = cm[0, 0] / (cm[0, 0] + cm[0, 1])\n",
    "    specificity = cm[1, 1] / (cm[1, 0] + cm[1, 1])\n",
    "    \n",
    "    print('Test accuracy:', score[1])\n",
    "    print(\"Average Sensitivity: {:.4f}\".format(sensitivity))\n",
    "    print(\"Average Specificity: {:.4f}\".format(specificity))\n",
    "    print(\"F1 Score: \", f1_score(rounded_labels, Y_pred_classes, average=\"macro\"))\n",
    "    print(\"Precision Score: \", precision_score(rounded_labels, Y_pred_classes, average=\"macro\"))\n",
    "    print(\"Recall Score: \", recall_score(rounded_labels, Y_pred_classes, average=\"macro\")) "
   ]
  },
  {
   "cell_type": "code",
   "execution_count": 58,
   "id": "4dba676d",
   "metadata": {},
   "outputs": [],
   "source": [
    "# Function for displaying training and validation accuracy and loss\n",
    "def display_history(history_,results_path):\n",
    "    fig, ax = plt.subplots(1,2, figsize=(12, 3))\n",
    "    ax[0].plot(history_.history['loss'], color='b', label=\"training_loss\")\n",
    "    ax[0].plot(history_.history['val_loss'], color='r', label=\"validation_loss\",axes =ax[0])\n",
    "    legend = ax[0].legend(loc='best', shadow=True)\n",
    "    fig.savefig(\" loss\")\n",
    "\n",
    "    ax[1].plot(history_.history['accuracy'], color='b', label=\"training_accuracy\")\n",
    "    ax[1].plot(history_.history['val_accuracy'], color='r',label=\"validation_accuracy\")\n",
    "    legend = ax[1].legend(loc='best', shadow=True)\n",
    "    fig.savefig(results_path )"
   ]
  },
  {
   "cell_type": "code",
   "execution_count": 59,
   "id": "2464e64f",
   "metadata": {},
   "outputs": [],
   "source": [
    "# PLOT ROC for ALL CLASSES\n",
    "def display_ROC(model,results_path):\n",
    "    predictions = model.predict(x_test, batch_size=32)\n",
    "\n",
    "    from itertools import chain\n",
    "    all_labels = np.unique(list(chain(*data['dx'].map(lambda x: x.split('|')).tolist())))\n",
    "    all_labels = [x for x in all_labels if len(x)>0]\n",
    "    print('All Labels ({}): {}'.format(len(all_labels), all_labels))\n",
    "    for c_label in all_labels:\n",
    "        if len(c_label)>1: # leave out empty labels\n",
    "            data[c_label] = data['dx'].map(lambda finding: 1.0 if c_label in finding else 0)\n",
    "    data.sample(3)\n",
    "\n",
    "    from sklearn.metrics import roc_curve, auc\n",
    "    colors = cycle(['aqua', 'darkorange', 'cornflowerblue'])\n",
    "    fig, c_ax = plt.subplots(1,1, figsize = (5, 5))\n",
    "    for (idx, c_label) in enumerate(all_labels):\n",
    "        fpr, tpr, thresholds = roc_curve(y_test[:,idx].astype(int), predictions[:,idx])\n",
    "        c_ax.plot(fpr, tpr, label = '%s (AUC:%0.2f)'  % (c_label, auc(fpr, tpr)))\n",
    "    #AUC_Score = roc_auc_score(y_test[:,idx].astype(int), predictions[:,idx])\n",
    "    #print(\"AUC_Score\",AUC_Score)\n",
    "#c_ax.legend()\n",
    "    c_ax.set_xlabel('False Positive Rate')\n",
    "    c_ax.set_ylabel('True Positive Rate')\n",
    "    plt.title('ROC for Skin Cancer classes ')\n",
    "    c_ax.legend(loc=\"lower right\")\n",
    "    fig.savefig(results_path )\n",
    "\n",
    "    from sklearn.metrics import roc_curve, roc_auc_score\n",
    "\n",
    "    auc_roc2 = roc_auc_score(y_test, predictions)\n",
    "\n",
    "    #print(\"auc_ROC2 for all calsses\",auc_roc2)"
   ]
  },
  {
   "cell_type": "code",
   "execution_count": 60,
   "id": "b06e63af",
   "metadata": {},
   "outputs": [],
   "source": [
    "def display_Confusion(model,results_path):\n",
    "# Confusion Matrix\n",
    "    plt.figure(figsize=(4,4))\n",
    "    ax = plt.subplot()\n",
    "    ax.set_title('Confusion Matrix')  \n",
    "    pred = model.predict(x_test, batch_size = 64)\n",
    "    pred = np.argmax(pred, axis = 1)\n",
    "    cm = confusion_matrix(y_test.argmax(axis = 1), pred)\n",
    "    sns.heatmap(cm, annot = True, xticklabels = all_labels, yticklabels = all_labels, annot_kws={'size':10}, fmt=\"d\", cmap='Blues',linewidths=1)\n",
    "    #results_path = 'CM for model0.png'\n",
    "#print(results_path)\n",
    "    plt.savefig(results_path, dpi=400)\n",
    "    plt.xlabel('Predicted')\n",
    "    plt.ylabel('Actual')\n",
    "    plt.show\n",
    "    #print(cm)\n",
    "    return cm"
   ]
  },
  {
   "cell_type": "code",
   "execution_count": 61,
   "id": "770f95ef",
   "metadata": {},
   "outputs": [],
   "source": [
    "def plot_Normalized_confusion_matrix(cm, classes,\n",
    "                        normalize=True,\n",
    "                        title='Confusion matrix',\n",
    "                        cmap=plt.cm.Blues):\n",
    "    \"\"\"\n",
    "    This function prints and plots the confusion matrix.\n",
    "    Normalization can be applied by setting `normalize=True`.\n",
    "    \"\"\"\n",
    "    plt.imshow(cm, interpolation='nearest', cmap=cmap)\n",
    "    plt.title(title)\n",
    "    plt.colorbar()\n",
    "    tick_marks = np.arange(len(classes))\n",
    "    plt.xticks(tick_marks, classes, rotation=45)\n",
    "    plt.yticks(tick_marks, classes)\n",
    "\n",
    "    if normalize:\n",
    "        cm = cm.astype('float') / cm.sum(axis=1)[:, np.newaxis]\n",
    "        print(\"Normalized confusion matrix\")\n",
    "    else:\n",
    "        print('Confusion matrix, without normalization')\n",
    "\n",
    "    #print(cm)\n",
    "\n",
    "    thresh = cm.max() / 2.\n",
    "    for i, j in itertools.product(range(cm.shape[0]), range(cm.shape[1])):\n",
    "        plt.text(j, i, cm[i, j],\n",
    "            horizontalalignment=\"center\",\n",
    "            color=\"black\" if cm[i, j] > thresh else \"black\")\n",
    "\n",
    "    plt.tight_layout()\n",
    "    plt.ylabel('True label')\n",
    "    plt.xlabel('Predicted label')"
   ]
  },
  {
   "cell_type": "code",
   "execution_count": 64,
   "id": "1d9983d3",
   "metadata": {},
   "outputs": [],
   "source": [
    "def generate_pretrained_model(model_name):\n",
    "    if model_name == 'Xception':\n",
    "        basemodel = Xception(\n",
    "        include_top = False,\n",
    "        weights = 'imagenet',input_shape=INP_SIZE)\n",
    "        basemodel.trainable= True\n",
    "        model = tf.keras.Sequential([\n",
    "            basemodel,\n",
    "            tf.keras.layers.GlobalAveragePooling2D(),\n",
    "            tf.keras.layers.Dense(7, activation='softmax')\n",
    "    ])\n",
    "     \n",
    "    elif model_name == 'ResNet50':\n",
    "        basemodel = ResNet50(\n",
    "        include_top = False,\n",
    "        weights = 'imagenet',input_shape=INP_SIZE)\n",
    "        basemodel.trainable= True \n",
    "        model = tf.keras.Sequential([\n",
    "            basemodel,\n",
    "            tf.keras.layers.GlobalAveragePooling2D(),\n",
    "            tf.keras.layers.Dense(7, activation='softmax') ])\n",
    "        \n",
    "    elif model_name == 'DenseNet121':\n",
    "        basemodel = DenseNet121(\n",
    "        include_top = False,\n",
    "        weights = 'imagenet',input_shape=INP_SIZE)\n",
    "        basemodel.trainable= True\n",
    "        model = tf.keras.Sequential([\n",
    "            basemodel,\n",
    "            tf.keras.layers.GlobalAveragePooling2D(),\n",
    "            tf.keras.layers.Dense(7, activation='softmax') ])\n",
    "        \n",
    "    elif model_name == 'InceptionV3':\n",
    "        basemodel = InceptionV3(\n",
    "        include_top = False,\n",
    "        weights = 'imagenet',input_shape=INP_SIZE)\n",
    "        basemodel.trainable= True\n",
    "        model = tf.keras.Sequential([\n",
    "            basemodel,\n",
    "            tf.keras.layers.GlobalAveragePooling2D(),\n",
    "            tf.keras.layers.Dense(7, activation='softmax') ])\n",
    "\n",
    "    elif model_name == 'VGG16':\n",
    "        basemodel = VGG16(\n",
    "        include_top = False,\n",
    "        weights = 'imagenet',input_shape=INP_SIZE)\n",
    "        basemodel.trainable= True\n",
    "        model = tf.keras.Sequential([\n",
    "            basemodel,\n",
    "            tf.keras.layers.GlobalAveragePooling2D(),\n",
    "            tf.keras.layers.Dense(7, activation='softmax') ])\\\n",
    "        \n",
    "    elif model_name == 'VGG19':\n",
    "        basemodel = VGG19(\n",
    "        include_top = False,\n",
    "        weights = 'imagenet',input_shape=INP_SIZE)\n",
    "        basemodel.trainable= True\n",
    "        model = tf.keras.Sequential([\n",
    "            basemodel,\n",
    "            tf.keras.layers.GlobalAveragePooling2D(),\n",
    "            tf.keras.layers.Dense(7, activation='softmax') ])\n",
    " \n",
    "    else:\n",
    "        model = None\n",
    "        print('Invalid Choice!')\n",
    "    \n",
    "    return model"
   ]
  },
  {
   "cell_type": "code",
   "execution_count": 65,
   "id": "7533b7b8",
   "metadata": {},
   "outputs": [],
   "source": [
    "from keras.callbacks import ReduceLROnPlateau\n",
    "learning_control = ReduceLROnPlateau(monitor='val_acc', patience=10, verbose=1, factor=.5, min_lr=0.00001)"
   ]
  },
  {
   "cell_type": "code",
   "execution_count": 66,
   "id": "b4f18157",
   "metadata": {},
   "outputs": [],
   "source": [
    "def scheduler(epoch,lr):\n",
    "    if epoch<8:\n",
    "        return lr\n",
    "    else:\n",
    "        return lr*0.9\n",
    "callback = tf.keras.callbacks.LearningRateScheduler(scheduler,verbose=1)"
   ]
  },
  {
   "cell_type": "code",
   "execution_count": 67,
   "id": "162d2982",
   "metadata": {},
   "outputs": [],
   "source": [
    " # Define checkpoint to save best Phase 1 weights\n",
    "best_weights_ph1 = \"model0.h5\"\n",
    "checkpoint = tf.keras.callbacks.ModelCheckpoint(best_weights_ph1, monitor=\"val_acc\", mode=\"max\", save_best_only=True, verbose=1)"
   ]
  },
  {
   "cell_type": "code",
   "execution_count": 68,
   "id": "2c971765",
   "metadata": {},
   "outputs": [],
   "source": [
    "model1 = ImageDataGenerator(\n",
    "        featurewise_center=False,  # set input mean to 0 over the dataset\n",
    "        samplewise_center=False,  # set each sample mean to 0\n",
    "        featurewise_std_normalization=False,  # divide inputs by std of the dataset\n",
    "        samplewise_std_normalization=False,  # divide each input by its std\n",
    "        zca_whitening=False,  # apply ZCA whitening\n",
    "        rotation_range=10,  # randomly rotate images in the range (degrees, 0 to 180)\n",
    "        zoom_range = 0.1, # Randomly zoom image \n",
    "        width_shift_range=0.1,  # randomly shift images horizontally (fraction of total width)\n",
    "        height_shift_range=0.1,  # randomly shift images vertically (fraction of total height)\n",
    "        horizontal_flip=False,  # randomly flip images\n",
    "        vertical_flip=False)  # randomly flip images\n",
    "\n",
    "model1.fit(x_train)"
   ]
  },
  {
   "cell_type": "code",
   "execution_count": 69,
   "id": "69d14c32",
   "metadata": {},
   "outputs": [
    {
     "name": "stderr",
     "output_type": "stream",
     "text": [
      "WARNING:absl:`lr` is deprecated in Keras optimizer, please use `learning_rate` or use the legacy optimizer, e.g.,tf.keras.optimizers.legacy.Adam.\n"
     ]
    },
    {
     "name": "stdout",
     "output_type": "stream",
     "text": [
      "Epoch 1/10\n",
      "119/119 [==============================] - ETA: 0s - loss: 0.8454 - accuracy: 0.7196WARNING:tensorflow:Can save best model only with val_acc available, skipping.\n"
     ]
    },
    {
     "name": "stderr",
     "output_type": "stream",
     "text": [
      "WARNING:tensorflow:Can save best model only with val_acc available, skipping.\n"
     ]
    },
    {
     "name": "stdout",
     "output_type": "stream",
     "text": [
      "119/119 [==============================] - 497s 4s/step - loss: 0.8454 - accuracy: 0.7196 - val_loss: 4546.9790 - val_accuracy: 0.1077\n",
      "Epoch 2/10\n",
      "119/119 [==============================] - ETA: 0s - loss: 0.6206 - accuracy: 0.7828 WARNING:tensorflow:Can save best model only with val_acc available, skipping.\n"
     ]
    },
    {
     "name": "stderr",
     "output_type": "stream",
     "text": [
      "WARNING:tensorflow:Can save best model only with val_acc available, skipping.\n"
     ]
    },
    {
     "name": "stdout",
     "output_type": "stream",
     "text": [
      "119/119 [==============================] - 3111s 26s/step - loss: 0.6206 - accuracy: 0.7828 - val_loss: 1.4447 - val_accuracy: 0.5838\n",
      "Epoch 3/10\n",
      "119/119 [==============================] - ETA: 0s - loss: 0.5855 - accuracy: 0.8000WARNING:tensorflow:Can save best model only with val_acc available, skipping.\n"
     ]
    },
    {
     "name": "stderr",
     "output_type": "stream",
     "text": [
      "WARNING:tensorflow:Can save best model only with val_acc available, skipping.\n"
     ]
    },
    {
     "name": "stdout",
     "output_type": "stream",
     "text": [
      "119/119 [==============================] - 687s 6s/step - loss: 0.5855 - accuracy: 0.8000 - val_loss: 3.1700 - val_accuracy: 0.5717\n",
      "Epoch 4/10\n",
      "119/119 [==============================] - ETA: 0s - loss: 0.5261 - accuracy: 0.8199WARNING:tensorflow:Can save best model only with val_acc available, skipping.\n"
     ]
    },
    {
     "name": "stderr",
     "output_type": "stream",
     "text": [
      "WARNING:tensorflow:Can save best model only with val_acc available, skipping.\n"
     ]
    },
    {
     "name": "stdout",
     "output_type": "stream",
     "text": [
      "119/119 [==============================] - 673s 6s/step - loss: 0.5261 - accuracy: 0.8199 - val_loss: 0.8385 - val_accuracy: 0.7010\n",
      "Epoch 5/10\n",
      "119/119 [==============================] - ETA: 0s - loss: 0.4000 - accuracy: 0.8595WARNING:tensorflow:Can save best model only with val_acc available, skipping.\n"
     ]
    },
    {
     "name": "stderr",
     "output_type": "stream",
     "text": [
      "WARNING:tensorflow:Can save best model only with val_acc available, skipping.\n"
     ]
    },
    {
     "name": "stdout",
     "output_type": "stream",
     "text": [
      "119/119 [==============================] - 641s 5s/step - loss: 0.4000 - accuracy: 0.8595 - val_loss: 0.9394 - val_accuracy: 0.6726\n",
      "Epoch 6/10\n",
      "119/119 [==============================] - ETA: 0s - loss: 0.3734 - accuracy: 0.8705WARNING:tensorflow:Can save best model only with val_acc available, skipping.\n"
     ]
    },
    {
     "name": "stderr",
     "output_type": "stream",
     "text": [
      "WARNING:tensorflow:Can save best model only with val_acc available, skipping.\n"
     ]
    },
    {
     "name": "stdout",
     "output_type": "stream",
     "text": [
      "119/119 [==============================] - 641s 5s/step - loss: 0.3734 - accuracy: 0.8705 - val_loss: 1.0691 - val_accuracy: 0.6574\n",
      "Epoch 7/10\n",
      "119/119 [==============================] - ETA: 0s - loss: 0.2564 - accuracy: 0.9134WARNING:tensorflow:Can save best model only with val_acc available, skipping.\n"
     ]
    },
    {
     "name": "stderr",
     "output_type": "stream",
     "text": [
      "WARNING:tensorflow:Can save best model only with val_acc available, skipping.\n"
     ]
    },
    {
     "name": "stdout",
     "output_type": "stream",
     "text": [
      "119/119 [==============================] - 487s 4s/step - loss: 0.2564 - accuracy: 0.9134 - val_loss: 0.8417 - val_accuracy: 0.7693\n",
      "Epoch 8/10\n",
      "119/119 [==============================] - ETA: 0s - loss: 0.2320 - accuracy: 0.9192WARNING:tensorflow:Can save best model only with val_acc available, skipping.\n"
     ]
    },
    {
     "name": "stderr",
     "output_type": "stream",
     "text": [
      "WARNING:tensorflow:Can save best model only with val_acc available, skipping.\n"
     ]
    },
    {
     "name": "stdout",
     "output_type": "stream",
     "text": [
      "119/119 [==============================] - 658s 6s/step - loss: 0.2320 - accuracy: 0.9192 - val_loss: 1.1701 - val_accuracy: 0.7257\n",
      "Epoch 9/10\n",
      "119/119 [==============================] - ETA: 0s - loss: 0.1844 - accuracy: 0.9369WARNING:tensorflow:Can save best model only with val_acc available, skipping.\n"
     ]
    },
    {
     "name": "stderr",
     "output_type": "stream",
     "text": [
      "WARNING:tensorflow:Can save best model only with val_acc available, skipping.\n"
     ]
    },
    {
     "name": "stdout",
     "output_type": "stream",
     "text": [
      "119/119 [==============================] - 491s 4s/step - loss: 0.1844 - accuracy: 0.9369 - val_loss: 1.0753 - val_accuracy: 0.7373\n",
      "Epoch 10/10\n",
      "119/119 [==============================] - ETA: 0s - loss: 0.1342 - accuracy: 0.9572WARNING:tensorflow:Can save best model only with val_acc available, skipping.\n"
     ]
    },
    {
     "name": "stderr",
     "output_type": "stream",
     "text": [
      "WARNING:tensorflow:Can save best model only with val_acc available, skipping.\n"
     ]
    },
    {
     "name": "stdout",
     "output_type": "stream",
     "text": [
      "\b\b\b\b\b\b\b\b\b\b\b\b\b\b\b\b\b\b\b\b\b\b\b\b\b\b\b\b\b\b\b\b\b\b\b\b\b\b\b\b\b\b\b\b\b\b\b\b\b\b\b\b\b\b\b\b\b\b\b\b\b\b\b\b\b\b\b\b\b\b\b\b\b\b\b\b\b\b\b\b\b\b\b\b\r",
      "119/119 [==============================] - 492s 4s/step - loss: 0.1342 - accuracy: 0.9572 - val_loss: 1.1201 - val_accuracy: 0.7120\n"
     ]
    }
   ],
   "source": [
    "model_name = 'InceptionV3'\n",
    "model1=generate_pretrained_model(model_name)\n",
    "tf.keras.utils.plot_model(model1)\n",
    "model1.compile(loss=\"categorical_crossentropy\", optimizer=tf.keras.optimizers.Adam(lr=1e-4), metrics=[\"accuracy\"])\n",
    "history1 = model1.fit(x_train, y_train, batch_size=BATCH_SIZE, epochs=EPOCHS, class_weight=class_weights, callbacks=[checkpoint],validation_split=0.2)"
   ]
  },
  {
   "cell_type": "code",
   "execution_count": 1,
   "id": "0963c67d",
   "metadata": {},
   "outputs": [
    {
     "ename": "NameError",
     "evalue": "name 'display_Confusion' is not defined",
     "output_type": "error",
     "traceback": [
      "\u001b[1;31m---------------------------------------------------------------------------\u001b[0m",
      "\u001b[1;31mNameError\u001b[0m                                 Traceback (most recent call last)",
      "Cell \u001b[1;32mIn[1], line 2\u001b[0m\n\u001b[0;32m      1\u001b[0m results_path\u001b[38;5;241m=\u001b[39m\u001b[38;5;124m\"\u001b[39m\u001b[38;5;124mResnet50nConfusion.Png\u001b[39m\u001b[38;5;124m\"\u001b[39m\n\u001b[1;32m----> 2\u001b[0m \u001b[43mdisplay_Confusion\u001b[49m(model1,results_path)\n\u001b[0;32m      3\u001b[0m results_path\u001b[38;5;241m=\u001b[39m\u001b[38;5;124m\"\u001b[39m\u001b[38;5;124mResnet50_ROC.Png\u001b[39m\u001b[38;5;124m\"\u001b[39m\n\u001b[0;32m      4\u001b[0m display_ROC(model1,results_path)\n",
      "\u001b[1;31mNameError\u001b[0m: name 'display_Confusion' is not defined"
     ]
    }
   ],
   "source": [
    "results_path=\"Resnet50nConfusion.Png\"\n",
    "display_Confusion(model1,results_path)\n",
    "results_path=\"Resnet50_ROC.Png\"\n",
    "display_ROC(model1,results_path)\n",
    "results_path=\"Resnet50_Result.Png\"\n",
    "plot_metrices(model1,results_path)\n",
    "results_path=\"Resnet50Accuracy.Png\"\n",
    "display_history(history1,results_path)\n",
    "gc.collect()\n",
    "del model1, history1\n",
    "gc.collect()"
   ]
  }
 ],
 "metadata": {
  "kernelspec": {
   "display_name": "Python 3 (ipykernel)",
   "language": "python",
   "name": "python3"
  },
  "language_info": {
   "codemirror_mode": {
    "name": "ipython",
    "version": 3
   },
   "file_extension": ".py",
   "mimetype": "text/x-python",
   "name": "python",
   "nbconvert_exporter": "python",
   "pygments_lexer": "ipython3",
   "version": "3.9.11"
  }
 },
 "nbformat": 4,
 "nbformat_minor": 5
}
